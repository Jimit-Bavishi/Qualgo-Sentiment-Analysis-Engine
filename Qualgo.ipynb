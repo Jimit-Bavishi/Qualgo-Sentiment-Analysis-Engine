{
 "cells": [
  {
   "cell_type": "code",
   "execution_count": 1,
   "metadata": {
    "collapsed": true
   },
   "outputs": [],
   "source": [
    "import pickle\n",
    "import os\n",
    "import sys\n",
    "import six\n",
    "import json\n",
    "import twitter"
   ]
  },
  {
   "cell_type": "code",
   "execution_count": 2,
   "metadata": {},
   "outputs": [
    {
     "name": "stdout",
     "output_type": "stream",
     "text": [
      "env: GOOGLE_APPLICATION_CREDENTIALS=C:\\\\Users\\\\Jimit\\\\Downloads\\\\Qualgo-d74f07b5ea27.json\n"
     ]
    }
   ],
   "source": [
    "%env GOOGLE_APPLICATION_CREDENTIALS Qualgo.json\n",
    "from google.cloud import language\n",
    "from google.cloud import language_v1beta2\n",
    "from google.cloud.language_v1beta2 import enums\n",
    "from google.cloud.language_v1beta2 import types"
   ]
  },
  {
   "cell_type": "code",
   "execution_count": 3,
   "metadata": {
    "collapsed": true
   },
   "outputs": [],
   "source": [
    "if not os.path.exists('secret_twitter_credentials.pkl'):\n",
    "    Twitter={}\n",
    "    Twitter['Consumer Key'] = '---SECRET---'\n",
    "    Twitter['Consumer Secret'] = '---SECRET---'\n",
    "    Twitter['Access Token'] = '---SECRET---'\n",
    "    Twitter['Access Token Secret'] = '---SECRET---'\n",
    "    with open('secret_twitter_credentials.pkl','wb') as f:\n",
    "        pickle.dump(Twitter, f)\n",
    "else:\n",
    "    Twitter=pickle.load(open('secret_twitter_credentials.pkl','rb'))"
   ]
  },
  {
   "cell_type": "markdown",
   "metadata": {},
   "source": [
    "Now we store Twitter Application Credentials in a dictionary named \"Twitter\" with fields 'Access Token', 'Access Token Secret', 'Consumer Key' and 'Consumer Secret'. Note that this step is omitted over here for security reasons."
   ]
  },
  {
   "cell_type": "code",
   "execution_count": 4,
   "metadata": {
    "collapsed": true
   },
   "outputs": [],
   "source": [
    "auth = twitter.oauth.OAuth(Twitter['Access Token'],\n",
    "                           Twitter['Access Token Secret'],\n",
    "                           Twitter['Consumer Key'],\n",
    "                           Twitter['Consumer Secret'])\n",
    "\n",
    "twitter_api = twitter.Twitter(auth=auth)"
   ]
  },
  {
   "cell_type": "code",
   "execution_count": 5,
   "metadata": {
    "collapsed": true
   },
   "outputs": [],
   "source": [
    "def contains_topic(text, topic): #Checks if the topic is in the text \n",
    "    text = text.lower()\n",
    "    topic = topic.lower()\n",
    "    if text.find(topic) != -1:\n",
    "        return True\n",
    "    else:\n",
    "        return False"
   ]
  },
  {
   "cell_type": "code",
   "execution_count": 6,
   "metadata": {
    "collapsed": true
   },
   "outputs": [],
   "source": [
    "def entity_sentiment_text(text, topic): #Outputs relevant metrics of sentiment\n",
    "    \n",
    "    \"\"\"Detects entity sentiment in the provided text.\"\"\"\n",
    "    client = language_v1beta2.LanguageServiceClient()\n",
    "\n",
    "    if isinstance(text, six.binary_type):\n",
    "        text = text.decode('utf-8')\n",
    "\n",
    "    document = types.Document(\n",
    "        content=text.encode('utf-8'),\n",
    "        type=enums.Document.Type.PLAIN_TEXT)\n",
    "\n",
    "    # Pass in encoding type to get useful offsets in the response.\n",
    "    encoding = enums.EncodingType.UTF32\n",
    "    if sys.maxunicode == 65535:\n",
    "        encoding = enums.EncodingType.UTF16\n",
    "\n",
    "    result = client.analyze_entity_sentiment(document, encoding)\n",
    "\n",
    "    for entity in result.entities:\n",
    "        if entity.name == topic:\n",
    "            dict = {}\n",
    "            dict[\"magnitude\"] = entity.sentiment.magnitude\n",
    "            dict[\"score\"] = entity.sentiment.score\n",
    "            dict[\"salience\"] = entity.salience\n",
    "            return dict"
   ]
  },
  {
   "cell_type": "code",
   "execution_count": 7,
   "metadata": {},
   "outputs": [
    {
     "name": "stdout",
     "output_type": "stream",
     "text": [
      "{'magnitude': 0.0, 'score': 0.0, 'salience': 0.2569761574268341}\n"
     ]
    }
   ],
   "source": [
    "example_text = 'Google, headquartered in Mountain View, unveiled the new Android phone at the Consumer Electronic Show.  Sundar Pichai said in his keynote that users love their new Android phones.'\n",
    "#sentiment, entities = language_analysis(example_text)\n",
    "\n",
    "print(entity_sentiment_text(example_text, \"Google\"))"
   ]
  },
  {
   "cell_type": "code",
   "execution_count": 8,
   "metadata": {
    "collapsed": true
   },
   "outputs": [],
   "source": [
    "def topic_trend(topic): #Outputs a dictionary containing num of followers of poster and sentiment metrics\n",
    "    search_results = twitter_api.search.tweets(q = topic, count = 100, lang = \"en\")\n",
    "    statuses = search_results['statuses']\n",
    "    table = []\n",
    "    for status in statuses:\n",
    "        if contains_topic(status['text'], topic):\n",
    "            dict = {}\n",
    "            value = entity_sentiment_text(status['text'], topic)\n",
    "            num_followers = status['user']['followers_count']\n",
    "            dict[\"value\"] = value\n",
    "            dict[\"num\"] = num_followers\n",
    "            table.append(dict)\n",
    "    return table"
   ]
  },
  {
   "cell_type": "code",
   "execution_count": 9,
   "metadata": {
    "collapsed": true
   },
   "outputs": [],
   "source": [
    "def final_output(topic): #Outputs a sentiment associated with the search topic\n",
    "    table = topic_trend(topic)\n",
    "    lst_values = []\n",
    "    aggregate = 0\n",
    "    for i in table:\n",
    "        if i[\"value\"]:\n",
    "            lst_values.append(i[\"value\"][\"score\"] * i[\"num\"])\n",
    "            aggregate = aggregate + i[\"num\"]\n",
    "    final_value = sum(lst_values) / float(aggregate)\n",
    "    if final_value >= 0.001:\n",
    "        return \"Positive\"\n",
    "    elif final_value < -0.001:\n",
    "        return \"Negative\"\n",
    "    else: \n",
    "        return \"Neutral\""
   ]
  },
  {
   "cell_type": "code",
   "execution_count": 11,
   "metadata": {},
   "outputs": [
    {
     "data": {
      "text/plain": [
       "'Negative'"
      ]
     },
     "execution_count": 11,
     "metadata": {},
     "output_type": "execute_result"
    }
   ],
   "source": [
    "final_output(\"Terrorism\")"
   ]
  }
 ],
 "metadata": {
  "kernelspec": {
   "display_name": "Python 3",
   "language": "python",
   "name": "python3"
  },
  "language_info": {
   "codemirror_mode": {
    "name": "ipython",
    "version": 3
   },
   "file_extension": ".py",
   "mimetype": "text/x-python",
   "name": "python",
   "nbconvert_exporter": "python",
   "pygments_lexer": "ipython3",
   "version": "3.6.1"
  }
 },
 "nbformat": 4,
 "nbformat_minor": 2
}
